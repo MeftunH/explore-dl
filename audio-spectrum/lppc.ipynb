{
 "cells": [
  {
   "cell_type": "code",
   "execution_count": 9,
   "id": "initial_id",
   "metadata": {
    "collapsed": true,
    "ExecuteTime": {
     "end_time": "2023-09-24T22:09:08.764546300Z",
     "start_time": "2023-09-24T22:09:08.751894900Z"
    }
   },
   "outputs": [],
   "source": [
    "import numpy as np\n",
    "import scipy.linalg\n",
    "from scipy.io.wavfile import read\n",
    "import matplotlib.pyplot as plt\n"
   ]
  },
  {
   "cell_type": "code",
   "execution_count": 10,
   "outputs": [],
   "source": [
    "def autocorr(seq, order=None):\n",
    "    if order is None:\n",
    "        order = len(seq) - 1\n",
    "    autocor = []\n",
    "    for tau in range(order + 1):\n",
    "        s = np.sum([seq[n] * seq[n + tau] for n in range(len(seq) - tau)])\n",
    "        autocor.append(s)\n",
    "    return autocor\n"
   ],
   "metadata": {
    "collapsed": false,
    "ExecuteTime": {
     "end_time": "2023-09-24T22:09:08.775430600Z",
     "start_time": "2023-09-24T22:09:08.760218600Z"
    }
   },
   "id": "85de912f7f6ef9b0"
  },
  {
   "cell_type": "code",
   "execution_count": 11,
   "outputs": [],
   "source": [
    "def lpc(seq, order=None):\n",
    "    acseq = np.array(autocorr(seq, order))\n",
    "    a_coef = np.dot(np.linalg.pinv(scipy.linalg.toeplitz(acseq[:-1])), -acseq[1:].T)\n",
    "    err_term = acseq[0] + np.dot(acseq[1:], a_coef)\n",
    "    return a_coef.tolist(), np.sqrt(abs(err_term))\n"
   ],
   "metadata": {
    "collapsed": false,
    "ExecuteTime": {
     "end_time": "2023-09-24T22:09:08.777434200Z",
     "start_time": "2023-09-24T22:09:08.768554500Z"
    }
   },
   "id": "1fda9996989dd6bf"
  },
  {
   "cell_type": "code",
   "execution_count": 12,
   "outputs": [],
   "source": [
    "def lpcc(seq, err_term, order=None):\n",
    "    if order is None:\n",
    "        order = len(seq) - 1\n",
    "    lpcc_coeffs = [np.log(err_term), -seq[0]]\n",
    "    for n in range(2, order + 1):\n",
    "        upbound = order + 1 if n > order else n\n",
    "        lpcc_coef = -sum(i * lpcc_coeffs[i] * seq[n - i - 1] for i in range(1, upbound)) / upbound\n",
    "        if n <= len(seq):\n",
    "            lpcc_coef -= seq[n - 1]\n",
    "        lpcc_coeffs.append(lpcc_coef)\n",
    "    return lpcc_coeffs\n"
   ],
   "metadata": {
    "collapsed": false,
    "ExecuteTime": {
     "end_time": "2023-09-24T22:09:08.806403900Z",
     "start_time": "2023-09-24T22:09:08.778454200Z"
    }
   },
   "id": "de51d7bbdfc4f65"
  },
  {
   "cell_type": "code",
   "execution_count": 13,
   "outputs": [
    {
     "name": "stderr",
     "output_type": "stream",
     "text": [
      "C:\\Users\\a074822\\AppData\\Local\\Temp\\ipykernel_44592\\3095067319.py:5: WavFileWarning: Chunk (non-data) not understood, skipping it.\n",
      "  sr, wav = read(filename)\n",
      "C:\\Users\\a074822\\AppData\\Local\\Temp\\ipykernel_44592\\3544096332.py:6: RuntimeWarning: overflow encountered in scalar multiply\n",
      "  s = np.sum([seq[n] * seq[n + tau] for n in range(len(seq) - tau)])\n"
     ]
    },
    {
     "name": "stdout",
     "output_type": "stream",
     "text": [
      "[9.049558083406183, 0.7194184708227038, 0.26567687238499005, 0.3503897677175457, 0.042354265525245405, 0.09301709603365338, 0.15076122445184048, -0.05510825205684887, 0.20003120919905976, -0.05931065514640366, 0.303210845210128, -0.138366682026903, 0.06818249441260182]\n"
     ]
    },
    {
     "data": {
      "text/plain": "<Figure size 640x480 with 1 Axes>",
      "image/png": "[encoded data removed]"
     },
     "metadata": {},
     "output_type": "display_data"
    }
   ],
   "source": [
    "from setuptools import glob\n",
    "\n",
    "order = 12\n",
    "for count, filename in enumerate(glob.glob('FMP_C2_F10.wav')):\n",
    "    sr, wav = read(filename)\n",
    "    lpc_value, err = lpc(wav, order)\n",
    "    lpcc_value = lpcc(lpc_value, err, order)\n",
    "\n",
    "    print(lpcc_value)\n",
    "\n",
    "    plt.figure(count)\n",
    "    plt.xlabel(\"Time\")\n",
    "    plt.ylabel(\"LPCC Coeff\")\n",
    "    plt.plot(lpcc_value)\n",
    "    plt.show()\n"
   ],
   "metadata": {
    "collapsed": false,
    "ExecuteTime": {
     "end_time": "2023-09-24T22:09:11.865996100Z",
     "start_time": "2023-09-24T22:09:08.791405800Z"
    }
   },
   "id": "1da0684c64b35e53"
  },
  {
   "cell_type": "code",
   "execution_count": 13,
   "outputs": [],
   "source": [],
   "metadata": {
    "collapsed": false,
    "ExecuteTime": {
     "end_time": "2023-09-24T22:09:11.865996100Z",
     "start_time": "2023-09-24T22:09:11.863960900Z"
    }
   },
   "id": "614b5f558cb1a122"
  }
 ],
 "metadata": {
  "kernelspec": {
   "display_name": "Python 3",
   "language": "python",
   "name": "python3"
  },
  "language_info": {
   "codemirror_mode": {
    "name": "ipython",
    "version": 2
   },
   "file_extension": ".py",
   "mimetype": "text/x-python",
   "name": "python",
   "nbconvert_exporter": "python",
   "pygments_lexer": "ipython2",
   "version": "2.7.6"
  }
 },
 "nbformat": 4,
 "nbformat_minor": 5
}
